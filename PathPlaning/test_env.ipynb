{
 "cells": [
  {
   "cell_type": "code",
   "execution_count": 4,
   "outputs": [
    {
     "name": "stdout",
     "output_type": "stream",
     "text": [
      "Sampled actions: [ 0.00046734 -0.00144362]\n"
     ]
    }
   ],
   "source": [
    "from stable_baselines3.common.noise import OrnsteinUhlenbeckActionNoise\n",
    "import numpy as np\n",
    "\n",
    "# 定义动作空间维度\n",
    "n_actions = 2  # 示例中假设动作空间的维度为2\n",
    "\n",
    "# 创建奥恩斯坦-乌伦贝克噪声对象\n",
    "action_noise = OrnsteinUhlenbeckActionNoise(mean=np.zeros(n_actions), sigma=0.009 * np.ones(n_actions))\n",
    "\n",
    "# 如果需要生成样本数据进行检查，可以调用 sample() 方法\n",
    "sampled_actions = action_noise()\n",
    "\n",
    "# 打印样本数据\n",
    "print(\"Sampled actions:\", sampled_actions)\n"
   ],
   "metadata": {
    "collapsed": false,
    "ExecuteTime": {
     "end_time": "2024-03-30T13:23:13.972461300Z",
     "start_time": "2024-03-30T13:23:13.954435800Z"
    }
   },
   "id": "3a416fae42f34b35"
  },
  {
   "cell_type": "code",
   "execution_count": null,
   "outputs": [],
   "source": [],
   "metadata": {
    "collapsed": false
   },
   "id": "ae53bcdfcd1a7976"
  }
 ],
 "metadata": {
  "kernelspec": {
   "display_name": "Python 3",
   "language": "python",
   "name": "python3"
  },
  "language_info": {
   "codemirror_mode": {
    "name": "ipython",
    "version": 2
   },
   "file_extension": ".py",
   "mimetype": "text/x-python",
   "name": "python",
   "nbconvert_exporter": "python",
   "pygments_lexer": "ipython2",
   "version": "2.7.6"
  }
 },
 "nbformat": 4,
 "nbformat_minor": 5
}
